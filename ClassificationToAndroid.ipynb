{
  "cells": [
    {
      "cell_type": "code",
      "execution_count": null,
      "metadata": {
        "colab": {
          "base_uri": "https://localhost:8080/"
        },
        "id": "4OxJ0TKKVsck",
        "outputId": "a820b7d2-d090-4441-e916-7eb242d34b88"
      },
      "outputs": [],
      "source": [
        "import torch\n",
        "import torchvision\n",
        "from torch.utils.mobile_optimizer import optimize_for_mobile"
      ]
    },
    {
      "cell_type": "code",
      "execution_count": null,
      "metadata": {
        "id": "aS_0XRD-ZOlN"
      },
      "outputs": [],
      "source": [
        "from torch import nn"
      ]
    },
    {
      "cell_type": "code",
      "execution_count": null,
      "metadata": {
        "id": "abh_wQ-PZBbf"
      },
      "outputs": [],
      "source": [
        "class Classification(nn.Module):\n",
        "    def __init__(self):\n",
        "        super().__init__()\n",
        "        self.net = nn.Sequential( #1, 256, 256\n",
        "            nn.Conv2d(1, 16, 4, 2, 1), #16, 128, 128\n",
        "            nn.ReLU(),\n",
        "            nn.Conv2d(16, 32, 4, 2, 1), #32, 64, 64\n",
        "            nn.ReLU(),\n",
        "            nn.Conv2d(32, 64, 4, 2, 1), #64, 32, 32\n",
        "            nn.ReLU(),\n",
        "            nn.Conv2d(64, 128, 4, 2, 1), #128, 16, 16\n",
        "            nn.ReLU(),\n",
        "            nn.Conv2d(128, 256, 4, 2, 1), #256, 8, 8\n",
        "            nn.ReLU(),\n",
        "            nn.Flatten(), #256*8*8\n",
        "            nn.Linear(256*8*8, 256),\n",
        "            nn.ReLU(),\n",
        "            nn.Linear(256, 128),\n",
        "            nn.ReLU(),\n",
        "            nn.Linear(128, 64),\n",
        "            nn.ReLU(),\n",
        "            nn.Linear(64, 32),\n",
        "            nn.ReLU(),\n",
        "            nn.Linear(32, 16),\n",
        "            nn.ReLU(),\n",
        "            nn.Linear(16, 10),\n",
        "            nn.Softmax(1),\n",
        "        )\n",
        "    def forward(self, images):\n",
        "        labels = self.net(images)\n",
        "        return labels"
      ]
    },
    {
      "cell_type": "code",
      "execution_count": null,
      "metadata": {},
      "outputs": [],
      "source": [
        "final_epoch = 400"
      ]
    },
    {
      "cell_type": "code",
      "execution_count": null,
      "metadata": {
        "colab": {
          "base_uri": "https://localhost:8080/"
        },
        "id": "zQUhsJvAZTh6",
        "outputId": "958918c0-3fac-4d14-adfc-281a4895a13c"
      },
      "outputs": [],
      "source": [
        "C = Classification()\n",
        "C.load_state_dict(torch.load(f'C_{final_epoch}.pth'))"
      ]
    },
    {
      "cell_type": "code",
      "execution_count": null,
      "metadata": {
        "id": "d7Uj31_hWRcu"
      },
      "outputs": [],
      "source": [
        "model = C\n",
        "model.eval()\n",
        "example = torch.rand(1, 1, 256, 256)\n",
        "traced_scipt_module = torch.jit.trace(model, example)\n",
        "traced_scipt_module_optimized = optimize_for_mobile(traced_scipt_module)\n",
        "traced_scipt_module_optimized._save_for_lite_interpreter('module.ptl')\n"
      ]
    }
  ],
  "metadata": {
    "accelerator": "GPU",
    "colab": {
      "gpuType": "T4",
      "provenance": []
    },
    "kernelspec": {
      "display_name": "Python 3",
      "name": "python3"
    },
    "language_info": {
      "name": "python"
    }
  },
  "nbformat": 4,
  "nbformat_minor": 0
}
